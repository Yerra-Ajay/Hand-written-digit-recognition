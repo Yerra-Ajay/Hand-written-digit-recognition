{
  "nbformat": 4,
  "nbformat_minor": 0,
  "metadata": {
    "colab": {
      "name": "Handwritten digit reconition.ipynb",
      "provenance": [],
      "collapsed_sections": [],
      "authorship_tag": "ABX9TyP0jy8lcbEsBB5IywoEWyrJ",
      "include_colab_link": true
    },
    "kernelspec": {
      "name": "python3",
      "display_name": "Python 3"
    },
    "accelerator": "GPU"
  },
  "cells": [
    {
      "cell_type": "markdown",
      "metadata": {
        "id": "view-in-github",
        "colab_type": "text"
      },
      "source": [
        "<a href=\"https://colab.research.google.com/github/Yerra-Ajay/Hand-written-digit-recognition/blob/master/Handwritten_digit_reconition.ipynb\" target=\"_parent\"><img src=\"https://colab.research.google.com/assets/colab-badge.svg\" alt=\"Open In Colab\"/></a>"
      ]
    },
    {
      "cell_type": "code",
      "metadata": {
        "id": "qF84ZI5wOfaX",
        "colab_type": "code",
        "colab": {
          "base_uri": "https://localhost:8080/",
          "height": 487
        },
        "outputId": "8c76b9fa-985a-4b25-c782-c1ca9b381881"
      },
      "source": [
        "import keras\n",
        "\n",
        "from keras.datasets import mnist\n",
        "from keras.models import Sequential\n",
        "from keras.layers import Dense, Dropout, Flatten\n",
        "from keras.layers import Conv2D, MaxPooling2D\n",
        "from keras import backend as K\n",
        "\n",
        "#splitting the data\n",
        "(x_train, y_train), (x_test, y_test) = mnist.load_data()\n",
        "print(x_train.shape, y_train.shape)\n",
        "\n",
        "x_train = x_train.reshape(x_train.shape[0],28,28,1)\n",
        "x_test = x_test.reshape(x_test.shape[0],28,28,1)\n",
        "input_shape = (28,28,1)\n",
        "\n",
        "num_classes=10\n",
        "y_train = keras.utils.to_categorical(y_train, num_classes)\n",
        "y_test = keras.utils.to_categorical(y_test, num_classes)\n",
        "\n",
        "x_train = x_train.astype('float32')\n",
        "x_test = x_test.astype('float32')\n",
        "\n",
        "x_train /= 255\n",
        "x_test /= 255\n",
        "\n",
        "print('x_train shape:', x_train.shape)\n",
        "print(x_train.shape[0], 'train samples')\n",
        "print(x_test.shape[0], 'test samples')\n",
        "\n",
        "batch_size = 128\n",
        "num_classes = 10\n",
        "epochs = 10\n",
        "\n",
        "model = Sequential()\n",
        "model.add(Conv2D(32, (5, 5), activation='relu', input_shape = input_shape))\n",
        "model.add(Conv2D(64, (3, 3), activation='relu'))\n",
        "model.add(MaxPooling2D(pool_size=(2, 2)))\n",
        "model.add(Dropout(0.25))\n",
        "model.add(Flatten())\n",
        "model.add(Dense(256, activation='relu'))\n",
        "model.add(Dropout(0.5))\n",
        "model.add(Dense(num_classes, activation='softmax'))\n",
        "\n",
        "model.compile(loss= keras.losses.categorical_crossentropy, optimizer=keras.optimizers.Adadelta(), metrics=['accuracy'])\n",
        "\n",
        "hist = model.fit(x_train,y_train,batch_size=batch_size, epochs=epochs, verbose=1, validation_data=(x_test,y_test))\n",
        "print('model has trained')\n",
        "model.save('mnist.h5')\n",
        "\n",
        "score = model.evaluate(x_test,y_test, verbose=0)\n",
        "print('Test loss:', score[0])\n",
        "print('Test accuracy:', score[1])\n"
      ],
      "execution_count": 3,
      "outputs": [
        {
          "output_type": "stream",
          "text": [
            "(60000, 28, 28) (60000,)\n",
            "x_train shape: (60000, 28, 28, 1)\n",
            "60000 train samples\n",
            "10000 test samples\n",
            "Train on 60000 samples, validate on 10000 samples\n",
            "Epoch 1/10\n",
            "60000/60000 [==============================] - 4s 62us/step - loss: 0.2164 - accuracy: 0.9338 - val_loss: 0.0473 - val_accuracy: 0.9837\n",
            "Epoch 2/10\n",
            "60000/60000 [==============================] - 4s 59us/step - loss: 0.0681 - accuracy: 0.9792 - val_loss: 0.0423 - val_accuracy: 0.9867\n",
            "Epoch 3/10\n",
            "60000/60000 [==============================] - 3s 58us/step - loss: 0.0512 - accuracy: 0.9848 - val_loss: 0.0295 - val_accuracy: 0.9891\n",
            "Epoch 4/10\n",
            "60000/60000 [==============================] - 3s 57us/step - loss: 0.0413 - accuracy: 0.9875 - val_loss: 0.0290 - val_accuracy: 0.9902\n",
            "Epoch 5/10\n",
            "60000/60000 [==============================] - 3s 57us/step - loss: 0.0343 - accuracy: 0.9894 - val_loss: 0.0263 - val_accuracy: 0.9911\n",
            "Epoch 6/10\n",
            "60000/60000 [==============================] - 3s 57us/step - loss: 0.0313 - accuracy: 0.9905 - val_loss: 0.0247 - val_accuracy: 0.9921\n",
            "Epoch 7/10\n",
            "60000/60000 [==============================] - 3s 57us/step - loss: 0.0256 - accuracy: 0.9921 - val_loss: 0.0239 - val_accuracy: 0.9927\n",
            "Epoch 8/10\n",
            "60000/60000 [==============================] - 3s 57us/step - loss: 0.0244 - accuracy: 0.9923 - val_loss: 0.0217 - val_accuracy: 0.9926\n",
            "Epoch 9/10\n",
            "60000/60000 [==============================] - 3s 57us/step - loss: 0.0212 - accuracy: 0.9935 - val_loss: 0.0215 - val_accuracy: 0.9933\n",
            "Epoch 10/10\n",
            "60000/60000 [==============================] - 3s 56us/step - loss: 0.0186 - accuracy: 0.9938 - val_loss: 0.0211 - val_accuracy: 0.9934\n",
            "model has trained\n",
            "Test loss: 0.021122149599491786\n",
            "Test accuracy: 0.993399977684021\n"
          ],
          "name": "stdout"
        }
      ]
    }
  ]
}